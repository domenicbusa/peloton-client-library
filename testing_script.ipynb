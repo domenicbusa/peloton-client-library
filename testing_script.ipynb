{
 "cells": [
  {
   "cell_type": "code",
   "execution_count": 7,
   "id": "f6e53fcf",
   "metadata": {},
   "outputs": [],
   "source": [
    "# import credentials\n",
    "# export PELOTON_USERNAME='domenic.busa@gmail.com'\n",
    "# export PELOTON_PASSWORD=''\n",
    "import keyring, os\n"
   ]
  },
  {
   "cell_type": "code",
   "execution_count": 13,
   "id": "e1262eca",
   "metadata": {},
   "outputs": [],
   "source": [
    "os.environ['PELOTON_USERNAME'] = 'domenic.busa@gmail.com'\n",
    "os.environ['PELOTON_PASSWORD'] = keyring.get_password('peloton','domenic.busa@gmail.com')"
   ]
  },
  {
   "cell_type": "code",
   "execution_count": 14,
   "id": "0d92e644",
   "metadata": {},
   "outputs": [
    {
     "data": {
      "text/plain": [
       "'XPQXpws*ME!hXTVcjN-@ZLZv9'"
      ]
     },
     "execution_count": 14,
     "metadata": {},
     "output_type": "execute_result"
    }
   ],
   "source": [
    "%env PELOTON_PASSWORD"
   ]
  },
  {
   "cell_type": "code",
   "execution_count": 15,
   "id": "a4b4bd74",
   "metadata": {},
   "outputs": [],
   "source": [
    "# import libraries\n",
    "from peloton import PelotonWorkout"
   ]
  },
  {
   "cell_type": "code",
   "execution_count": 16,
   "id": "18c033b7",
   "metadata": {},
   "outputs": [],
   "source": [
    "# fetch workouts\n",
    "workouts = PelotonWorkout.list()\n",
    "workout = workouts[1]"
   ]
  },
  {
   "cell_type": "code",
   "execution_count": 17,
   "id": "782b7f69",
   "metadata": {},
   "outputs": [
    {
     "data": {
      "text/plain": [
       "datetime.datetime(2022, 9, 8, 11, 51, 30, tzinfo=datetime.timezone.utc)"
      ]
     },
     "execution_count": 17,
     "metadata": {},
     "output_type": "execute_result"
    }
   ],
   "source": [
    "workout"
   ]
  },
  {
   "cell_type": "code",
   "execution_count": null,
   "id": "5fca1756",
   "metadata": {},
   "outputs": [],
   "source": []
  }
 ],
 "metadata": {
  "kernelspec": {
   "display_name": "Python 3 (ipykernel)",
   "language": "python",
   "name": "python3"
  },
  "language_info": {
   "codemirror_mode": {
    "name": "ipython",
    "version": 3
   },
   "file_extension": ".py",
   "mimetype": "text/x-python",
   "name": "python",
   "nbconvert_exporter": "python",
   "pygments_lexer": "ipython3",
   "version": "3.8.13"
  }
 },
 "nbformat": 4,
 "nbformat_minor": 5
}
